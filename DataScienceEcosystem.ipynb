{
 "cells": [
  {
   "cell_type": "markdown",
   "id": "43da3940-b9a7-4b6e-8076-12b119eba9c3",
   "metadata": {},
   "source": [
    "# Data Science Tools and Ecosystem"
   ]
  },
  {
   "cell_type": "markdown",
   "id": "a19cd333-c428-4178-b30e-5aed756ab0b4",
   "metadata": {},
   "source": [
    "In this notebook, Data Science Tools and Ecosystem are summarized."
   ]
  },
  {
   "cell_type": "markdown",
   "id": "156b0e81-1254-4e84-9a39-7ba27f4f4793",
   "metadata": {},
   "source": [
    "**Objectives**\n",
    "- List popular languages for Data Science\n",
    "- List commonly used libraries by Data Scientists\n",
    "- List popular data science tools"
   ]
  },
  {
   "cell_type": "markdown",
   "id": "430f93a5-32fb-4414-9d88-09b68f34cc0d",
   "metadata": {},
   "source": [
    "Some of the popular languages that Data Scientists use are:\n",
    "1. Python\n",
    "2. R\n",
    "3. Java"
   ]
  },
  {
   "cell_type": "markdown",
   "id": "df1b49c1-84f9-48df-9cd4-7f37252b4c64",
   "metadata": {},
   "source": [
    "Some of the commonly used libraries used by Data Scientists include:\n",
    "1. NumPy\n",
    "2. Pandas\n",
    "3. Matplotlib"
   ]
  },
  {
   "cell_type": "markdown",
   "id": "e8c0194f-44ff-4795-8fb0-de293178090d",
   "metadata": {},
   "source": [
    "| Data Science Tools     |\n",
    "|------------------------|\n",
    "| Jupyter Notebook       |\n",
    "| RStudio                |\n",
    "| Apache Zeppelin        |\n"
   ]
  },
  {
   "cell_type": "markdown",
   "id": "ae83e12d-d515-407a-b215-0a0e5f977f37",
   "metadata": {},
   "source": [
    "### Below are a few examples of evaluating arithmetic expressions in Python"
   ]
  },
  {
   "cell_type": "code",
   "execution_count": 2,
   "id": "675b69a5-7fae-4d11-b15c-2c4347a8f771",
   "metadata": {},
   "outputs": [
    {
     "data": {
      "text/plain": [
       "17"
      ]
     },
     "execution_count": 2,
     "metadata": {},
     "output_type": "execute_result"
    }
   ],
   "source": [
    "#This a simple arithmetic expression to mutiply then add integers\n",
    "(3*4)+5"
   ]
  },
  {
   "cell_type": "code",
   "execution_count": 3,
   "id": "02aab660-a9f5-49b0-b07a-393aef0b6b27",
   "metadata": {},
   "outputs": [
    {
     "name": "stdout",
     "output_type": "stream",
     "text": [
      "3.3333333333333335\n"
     ]
    }
   ],
   "source": [
    "#This will convert 200 minutes to hours by diving by 60\n",
    "x = 200\n",
    "y = 60\n",
    "z = x/y\n",
    "print (z)\n"
   ]
  },
  {
   "cell_type": "markdown",
   "id": "35f7d112-51ea-4e5b-a394-9ebe38c4dadf",
   "metadata": {},
   "source": [
    "## Author\n",
    "Jim Omoigberale"
   ]
  },
  {
   "cell_type": "code",
   "execution_count": null,
   "id": "50d48fc1-a9cf-4883-902e-85944874249b",
   "metadata": {},
   "outputs": [],
   "source": []
  }
 ],
 "metadata": {
  "kernelspec": {
   "display_name": "Python 3 (ipykernel)",
   "language": "python",
   "name": "python3"
  },
  "language_info": {
   "codemirror_mode": {
    "name": "ipython",
    "version": 3
   },
   "file_extension": ".py",
   "mimetype": "text/x-python",
   "name": "python",
   "nbconvert_exporter": "python",
   "pygments_lexer": "ipython3",
   "version": "3.8.2"
  }
 },
 "nbformat": 4,
 "nbformat_minor": 5
}
